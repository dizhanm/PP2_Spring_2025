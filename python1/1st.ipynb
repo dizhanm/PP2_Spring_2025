{
 "cells": [
  {
   "cell_type": "markdown",
   "id": "f020a567-6aec-441f-941a-e8fbd8904d3c",
   "metadata": {},
   "source": [
    "My first row"
   ]
  },
  {
   "cell_type": "code",
   "execution_count": null,
   "id": "013c53df-c51f-4478-aa36-e67f14496b64",
   "metadata": {},
   "outputs": [],
   "source": [
    "print(\"Hello\")"
   ]
  }
 ],
 "metadata": {
  "kernelspec": {
   "display_name": "Python [conda env:base] *",
   "language": "python",
   "name": "conda-base-py"
  },
  "language_info": {
   "codemirror_mode": {
    "name": "ipython",
    "version": 3
   },
   "file_extension": ".py",
   "mimetype": "text/x-python",
   "name": "python",
   "nbconvert_exporter": "python",
   "pygments_lexer": "ipython3",
   "version": "3.12.7"
  }
 },
 "nbformat": 4,
 "nbformat_minor": 5
}
