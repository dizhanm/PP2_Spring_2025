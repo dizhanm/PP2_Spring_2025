{
 "cells": [
  {
   "cell_type": "markdown",
   "id": "b11157dd-4469-4201-808b-d1569cb68f1e",
   "metadata": {},
   "source": [
    "1st example"
   ]
  },
  {
   "cell_type": "code",
   "execution_count": 3,
   "id": "7e8fc492-aedb-4932-97ad-da31878c0a37",
   "metadata": {},
   "outputs": [
    {
     "name": "stdout",
     "output_type": "stream",
     "text": [
      "Hello, World!\n"
     ]
    }
   ],
   "source": [
    "print(\"Hello, World!\")"
   ]
  },
  {
   "cell_type": "markdown",
   "id": "cdb26652-3db5-43d6-b965-ef8ec98a4393",
   "metadata": {},
   "source": [
    "2nd example"
   ]
  },
  {
   "cell_type": "code",
   "execution_count": 8,
   "id": "4b247f53-e5c9-4c7d-9fe6-66d8c01a5932",
   "metadata": {},
   "outputs": [
    {
     "name": "stdout",
     "output_type": "stream",
     "text": [
      "Five is greater than two!\n"
     ]
    }
   ],
   "source": [
    "if 5 > 2:\n",
    "    print(\"Five is greater than two!\")"
   ]
  },
  {
   "cell_type": "markdown",
   "id": "29b204a2-cc1b-409c-892f-836489c5f185",
   "metadata": {},
   "source": [
    "3rd example"
   ]
  },
  {
   "cell_type": "code",
   "execution_count": 11,
   "id": "0222a7cc-afc3-4e0c-81b5-8e928f877c4e",
   "metadata": {},
   "outputs": [
    {
     "name": "stdout",
     "output_type": "stream",
     "text": [
      "3.12.7 | packaged by Anaconda, Inc. | (main, Oct  4 2024, 08:22:19) [Clang 14.0.6 ]\n"
     ]
    }
   ],
   "source": [
    "import sys\n",
    "\n",
    "print(sys.version)"
   ]
  },
  {
   "cell_type": "markdown",
   "id": "f4d760c8-5b28-48c8-8e04-c9341f7e120e",
   "metadata": {},
   "source": [
    "4th example"
   ]
  },
  {
   "cell_type": "code",
   "execution_count": 16,
   "id": "02ee566a-d70e-4cf9-848e-9305cd1d3ffa",
   "metadata": {},
   "outputs": [
    {
     "name": "stdout",
     "output_type": "stream",
     "text": [
      "Five is greater than two!\n",
      "Five is greater than two!\n"
     ]
    }
   ],
   "source": [
    "if 5 > 2:\n",
    " print(\"Five is greater than two!\") \n",
    "if 5 > 2:\n",
    "        print(\"Five is greater than two!\") "
   ]
  },
  {
   "cell_type": "markdown",
   "id": "592c7513-1d5d-437f-9702-90a325e3870f",
   "metadata": {},
   "source": [
    "5th example"
   ]
  },
  {
   "cell_type": "code",
   "execution_count": 19,
   "id": "87c21200-621c-426e-893a-408f137a5d49",
   "metadata": {},
   "outputs": [],
   "source": [
    "x = 5\n",
    "y = \"Hello, World!\""
   ]
  },
  {
   "cell_type": "markdown",
   "id": "3d60ad41-2801-45c1-8bed-e03d21571e01",
   "metadata": {},
   "source": [
    "6th example"
   ]
  },
  {
   "cell_type": "code",
   "execution_count": 24,
   "id": "9b910a7e-b2b7-45f7-ac90-2a664655b319",
   "metadata": {},
   "outputs": [
    {
     "name": "stdout",
     "output_type": "stream",
     "text": [
      "Hello, World!\n"
     ]
    }
   ],
   "source": [
    "#This is a comment.\n",
    "print(\"Hello, World!\")"
   ]
  },
  {
   "cell_type": "markdown",
   "id": "42737f0d-0b33-4c5e-afd5-6f6556381b9f",
   "metadata": {},
   "source": [
    "7th example"
   ]
  },
  {
   "cell_type": "code",
   "execution_count": 27,
   "id": "5c3fcdcc-6756-4204-acff-7fae0817f390",
   "metadata": {},
   "outputs": [
    {
     "name": "stdout",
     "output_type": "stream",
     "text": [
      "Hello, World!\n"
     ]
    }
   ],
   "source": [
    "print(\"Hello, World!\") #This is a comment"
   ]
  },
  {
   "cell_type": "markdown",
   "id": "e76fdf48-44e1-48df-91b5-b2eeddf811f2",
   "metadata": {},
   "source": [
    "8th example"
   ]
  },
  {
   "cell_type": "code",
   "execution_count": 30,
   "id": "10088102-ff75-48e8-b2b6-d9182f44ce64",
   "metadata": {},
   "outputs": [
    {
     "name": "stdout",
     "output_type": "stream",
     "text": [
      "Hello, World!\n"
     ]
    }
   ],
   "source": [
    "print(\"Hello, World!\") #This is a comment"
   ]
  },
  {
   "cell_type": "markdown",
   "id": "04b1f9fa-ffb0-41d9-8ae2-6f80acf340bf",
   "metadata": {},
   "source": [
    "9th example"
   ]
  },
  {
   "cell_type": "code",
   "execution_count": 33,
   "id": "4cfae553-9328-4344-b2c7-a4e87c11f8ec",
   "metadata": {},
   "outputs": [
    {
     "name": "stdout",
     "output_type": "stream",
     "text": [
      "Cheers, Mate!\n"
     ]
    }
   ],
   "source": [
    "#print(\"Hello, World!\")\n",
    "print(\"Cheers, Mate!\")"
   ]
  },
  {
   "cell_type": "markdown",
   "id": "3bd351e8-b029-4e0d-ac1a-eccbeb221ea0",
   "metadata": {},
   "source": [
    "10th example"
   ]
  },
  {
   "cell_type": "code",
   "execution_count": 36,
   "id": "16316844-efde-4c3d-925d-c545c93818c7",
   "metadata": {},
   "outputs": [
    {
     "name": "stdout",
     "output_type": "stream",
     "text": [
      "Hello, World!\n"
     ]
    }
   ],
   "source": [
    "#This is a comment\n",
    "#written in\n",
    "#more than just one line\n",
    "print(\"Hello, World!\")"
   ]
  },
  {
   "cell_type": "markdown",
   "id": "a7d7b32e-1818-4c97-937e-efdb8a179917",
   "metadata": {},
   "source": [
    "11th example"
   ]
  },
  {
   "cell_type": "code",
   "execution_count": 39,
   "id": "13c31349-dbd5-4c60-8851-45aa25477a03",
   "metadata": {},
   "outputs": [
    {
     "name": "stdout",
     "output_type": "stream",
     "text": [
      "Hello, World!\n"
     ]
    }
   ],
   "source": [
    "\"\"\"\n",
    "This is a comment\n",
    "written in\n",
    "more than just one line\n",
    "\"\"\"\n",
    "print(\"Hello, World!\")"
   ]
  },
  {
   "cell_type": "markdown",
   "id": "98e536d4-ec33-42bd-8511-83542bcf6458",
   "metadata": {},
   "source": [
    "12th example"
   ]
  },
  {
   "cell_type": "code",
   "execution_count": 42,
   "id": "0637ff1f-0cce-4b4d-bbd0-b73371992b9d",
   "metadata": {},
   "outputs": [
    {
     "name": "stdout",
     "output_type": "stream",
     "text": [
      "5\n",
      "John\n"
     ]
    }
   ],
   "source": [
    "x = 5\n",
    "y = \"John\"\n",
    "print(x)\n",
    "print(y)"
   ]
  },
  {
   "cell_type": "markdown",
   "id": "261ac7e3-6d86-48cc-a717-09b377d59b4e",
   "metadata": {},
   "source": [
    "13th example"
   ]
  },
  {
   "cell_type": "code",
   "execution_count": 45,
   "id": "2757e1a9-9bab-415d-b60e-2eadcc570224",
   "metadata": {},
   "outputs": [
    {
     "name": "stdout",
     "output_type": "stream",
     "text": [
      "Sally\n"
     ]
    }
   ],
   "source": [
    "x = 4       # x is of type int\n",
    "x = \"Sally\" # x is now of type str\n",
    "print(x)"
   ]
  },
  {
   "cell_type": "markdown",
   "id": "6cdf05fb-3231-4be2-a4e8-4aaac54cd7bf",
   "metadata": {},
   "source": [
    "14th example"
   ]
  },
  {
   "cell_type": "code",
   "execution_count": 48,
   "id": "c31ef8c5-ed3e-434d-aeb1-c7f8e947e853",
   "metadata": {},
   "outputs": [],
   "source": [
    "x = str(3)    # x will be '3'\n",
    "y = int(3)    # y will be 3\n",
    "z = float(3)  # z will be 3.0"
   ]
  },
  {
   "cell_type": "markdown",
   "id": "d86c4338-b789-4eca-bab0-8a7ee0fb4c48",
   "metadata": {},
   "source": [
    "15th example"
   ]
  },
  {
   "cell_type": "code",
   "execution_count": 51,
   "id": "0ae0b618-76e0-435d-b91e-5b84d3fffe96",
   "metadata": {},
   "outputs": [
    {
     "name": "stdout",
     "output_type": "stream",
     "text": [
      "<class 'int'>\n",
      "<class 'str'>\n"
     ]
    }
   ],
   "source": [
    "x = 5\n",
    "y = \"John\"\n",
    "print(type(x))\n",
    "print(type(y))"
   ]
  },
  {
   "cell_type": "markdown",
   "id": "7ecc5129-66cd-41f5-91fe-ddb5a42bd326",
   "metadata": {},
   "source": [
    "16th example"
   ]
  },
  {
   "cell_type": "code",
   "execution_count": 54,
   "id": "8ffa7f8f-d9fe-4d6d-a3aa-1b925b85f1d9",
   "metadata": {},
   "outputs": [],
   "source": [
    "x = \"John\"\n",
    "# is the same as\n",
    "x = 'John'"
   ]
  },
  {
   "cell_type": "markdown",
   "id": "b0cbe7e8-97ca-4bac-8274-41f847edfd68",
   "metadata": {},
   "source": [
    "17th example"
   ]
  },
  {
   "cell_type": "code",
   "execution_count": 57,
   "id": "ef03ee39-581f-43df-89ca-2d28df25c3b5",
   "metadata": {},
   "outputs": [],
   "source": [
    "a = 4\n",
    "A = \"Sally\"\n",
    "#A will not overwrite a"
   ]
  },
  {
   "cell_type": "markdown",
   "id": "997036dd-3215-444f-b648-94fffef82808",
   "metadata": {},
   "source": [
    "18th example"
   ]
  },
  {
   "cell_type": "code",
   "execution_count": 60,
   "id": "2447488c-54cf-43bd-a28c-4faf8def5161",
   "metadata": {},
   "outputs": [],
   "source": [
    "myvar = \"John\"\n",
    "my_var = \"John\"\n",
    "_my_var = \"John\"\n",
    "myVar = \"John\"\n",
    "MYVAR = \"John\"\n",
    "myvar2 = \"John\""
   ]
  },
  {
   "cell_type": "markdown",
   "id": "c67de841-0b40-4ee7-86ba-c0c201d17fa6",
   "metadata": {},
   "source": [
    "19th example"
   ]
  },
  {
   "cell_type": "code",
   "execution_count": 63,
   "id": "38df4a77-ce9e-47b6-a5b6-e621c5232b31",
   "metadata": {},
   "outputs": [],
   "source": [
    "myVariableName = \"John\" #Camel Case\n",
    "MyVariableName = \"John\" #Pascal Case\n",
    "my_variable_name = \"John\" #Snake Case"
   ]
  },
  {
   "cell_type": "markdown",
   "id": "332d0f33-6ede-4f47-bbee-acc10cd94386",
   "metadata": {},
   "source": [
    "20th example"
   ]
  },
  {
   "cell_type": "code",
   "execution_count": 66,
   "id": "50d8489d-b42d-4999-964d-df68ab3c713c",
   "metadata": {},
   "outputs": [
    {
     "name": "stdout",
     "output_type": "stream",
     "text": [
      "Orange\n",
      "Banana\n",
      "Cherry\n"
     ]
    }
   ],
   "source": [
    "x, y, z = \"Orange\", \"Banana\", \"Cherry\"\n",
    "print(x)\n",
    "print(y)\n",
    "print(z)"
   ]
  },
  {
   "cell_type": "markdown",
   "id": "5acb2df4-c72b-4c58-8164-ea5d9a82d833",
   "metadata": {},
   "source": [
    "21st example"
   ]
  },
  {
   "cell_type": "code",
   "execution_count": 69,
   "id": "0d6277e9-c600-45d3-9075-34a71fe880dc",
   "metadata": {},
   "outputs": [
    {
     "name": "stdout",
     "output_type": "stream",
     "text": [
      "Orange\n",
      "Orange\n",
      "Orange\n"
     ]
    }
   ],
   "source": [
    "x = y = z = \"Orange\"\n",
    "print(x)\n",
    "print(y)\n",
    "print(z)"
   ]
  },
  {
   "cell_type": "markdown",
   "id": "692a89a9-cc79-4cc7-90a0-c8467d63cfe1",
   "metadata": {},
   "source": [
    "22nd example"
   ]
  },
  {
   "cell_type": "code",
   "execution_count": 72,
   "id": "24b81275-ff2c-4a0d-b992-9b3a132f1f7d",
   "metadata": {},
   "outputs": [
    {
     "name": "stdout",
     "output_type": "stream",
     "text": [
      "apple\n",
      "banana\n",
      "cherry\n"
     ]
    }
   ],
   "source": [
    "fruits = [\"apple\", \"banana\", \"cherry\"]\n",
    "x, y, z = fruits\n",
    "print(x)\n",
    "print(y)\n",
    "print(z)"
   ]
  },
  {
   "cell_type": "markdown",
   "id": "7b0ed192-1f3b-484c-bd8d-80a7ae39e2b6",
   "metadata": {},
   "source": [
    "23rd example"
   ]
  },
  {
   "cell_type": "code",
   "execution_count": 75,
   "id": "f0b4f392-eb9d-4eb3-a0db-50ecc0d05ae0",
   "metadata": {},
   "outputs": [
    {
     "name": "stdout",
     "output_type": "stream",
     "text": [
      "Python is awesome\n"
     ]
    }
   ],
   "source": [
    "x = \"Python is awesome\"\n",
    "print(x)"
   ]
  },
  {
   "cell_type": "markdown",
   "id": "fba8aa34-6d58-4250-8fc3-ac931fb5ed44",
   "metadata": {},
   "source": [
    "24th example"
   ]
  },
  {
   "cell_type": "code",
   "execution_count": 78,
   "id": "3a341509-1893-435d-a90b-86f6b9a6e26c",
   "metadata": {},
   "outputs": [
    {
     "name": "stdout",
     "output_type": "stream",
     "text": [
      "Python is awesome\n"
     ]
    }
   ],
   "source": [
    "x = \"Python\"\n",
    "y = \"is\"\n",
    "z = \"awesome\"\n",
    "print(x, y, z)"
   ]
  },
  {
   "cell_type": "markdown",
   "id": "dbb010e6-07ab-4d7e-af36-d3d74e65a3af",
   "metadata": {},
   "source": [
    "25th example"
   ]
  },
  {
   "cell_type": "code",
   "execution_count": 81,
   "id": "544d21bb-5b2b-4af2-bbc1-a12ebcddfeae",
   "metadata": {},
   "outputs": [
    {
     "name": "stdout",
     "output_type": "stream",
     "text": [
      "Python is awesome\n"
     ]
    }
   ],
   "source": [
    "x = \"Python \"\n",
    "y = \"is \"\n",
    "z = \"awesome\"\n",
    "print(x + y + z)"
   ]
  },
  {
   "cell_type": "markdown",
   "id": "66ab231d-ea66-43ae-a114-85ab39f26f90",
   "metadata": {},
   "source": [
    "26th example"
   ]
  },
  {
   "cell_type": "code",
   "execution_count": 84,
   "id": "60f8c3e5-96c6-4b2a-a431-2d0242d7a1d1",
   "metadata": {},
   "outputs": [
    {
     "name": "stdout",
     "output_type": "stream",
     "text": [
      "15\n"
     ]
    }
   ],
   "source": [
    "x = 5\n",
    "y = 10\n",
    "print(x + y)"
   ]
  },
  {
   "cell_type": "markdown",
   "id": "12af56ea-ca1f-490a-8097-104082dd9d40",
   "metadata": {},
   "source": [
    "27th example"
   ]
  },
  {
   "cell_type": "code",
   "execution_count": 87,
   "id": "449b2542-f485-419f-aeb4-d3942dd096e1",
   "metadata": {},
   "outputs": [
    {
     "name": "stdout",
     "output_type": "stream",
     "text": [
      "5 John\n"
     ]
    }
   ],
   "source": [
    "x = 5\n",
    "y = \"John\"\n",
    "print(x, y)"
   ]
  },
  {
   "cell_type": "markdown",
   "id": "42b1fccc-73ce-462f-983f-cb0ad2183a1d",
   "metadata": {},
   "source": [
    "28th example"
   ]
  },
  {
   "cell_type": "code",
   "execution_count": 90,
   "id": "b70c1dd7-cbc7-4e29-a01e-4d03221064f3",
   "metadata": {},
   "outputs": [
    {
     "name": "stdout",
     "output_type": "stream",
     "text": [
      "Python is awesome\n"
     ]
    }
   ],
   "source": [
    "x = \"awesome\"\n",
    "\n",
    "def myfunc():\n",
    "  print(\"Python is \" + x)\n",
    "\n",
    "myfunc()"
   ]
  },
  {
   "cell_type": "markdown",
   "id": "576bb3fc-7741-4866-9b3a-61b628a02f9f",
   "metadata": {},
   "source": [
    "29th example"
   ]
  },
  {
   "cell_type": "code",
   "execution_count": 93,
   "id": "75495b2b-82cc-426f-a085-6ecdb481c4fb",
   "metadata": {},
   "outputs": [
    {
     "name": "stdout",
     "output_type": "stream",
     "text": [
      "Python is fantastic\n",
      "Python is awesome\n"
     ]
    }
   ],
   "source": [
    "x = \"awesome\"\n",
    "\n",
    "def myfunc():\n",
    "  x = \"fantastic\"\n",
    "  print(\"Python is \" + x)\n",
    "\n",
    "myfunc()\n",
    "\n",
    "print(\"Python is \" + x)"
   ]
  },
  {
   "cell_type": "markdown",
   "id": "e361b825-fae8-4674-8e9f-eb01e7adb723",
   "metadata": {},
   "source": [
    "30th example"
   ]
  },
  {
   "cell_type": "code",
   "execution_count": 96,
   "id": "015e915d-e013-4cb5-b0b9-0430d60c79a3",
   "metadata": {},
   "outputs": [
    {
     "name": "stdout",
     "output_type": "stream",
     "text": [
      "<class 'int'>\n"
     ]
    }
   ],
   "source": [
    "x = 5\n",
    "print(type(x))"
   ]
  },
  {
   "cell_type": "markdown",
   "id": "1b8b4a56-4e8e-4ff3-8b86-2eb7ae16d1bb",
   "metadata": {},
   "source": [
    "31st example"
   ]
  },
  {
   "cell_type": "code",
   "execution_count": 99,
   "id": "8114efc3-4505-4c42-974c-3f9e7048bb9d",
   "metadata": {},
   "outputs": [],
   "source": [
    "x = 1    # int\n",
    "y = 2.8  # float\n",
    "z = 1j   # complex"
   ]
  },
  {
   "cell_type": "markdown",
   "id": "c8967a2f-9333-4ada-af98-5e138ed6e9cd",
   "metadata": {},
   "source": [
    "32nd example"
   ]
  },
  {
   "cell_type": "code",
   "execution_count": 102,
   "id": "40c15cad-1e7b-4170-b775-1789c12d7867",
   "metadata": {},
   "outputs": [
    {
     "name": "stdout",
     "output_type": "stream",
     "text": [
      "<class 'int'>\n",
      "<class 'float'>\n",
      "<class 'complex'>\n"
     ]
    }
   ],
   "source": [
    "x = 1    # int\n",
    "y = 2.8  # float\n",
    "z = 1j   # complex\n",
    "print(type(x))\n",
    "print(type(y))\n",
    "print(type(z))"
   ]
  },
  {
   "cell_type": "markdown",
   "id": "2516f17f-8eb1-4d8c-8221-e4966439b8c1",
   "metadata": {},
   "source": [
    "33rd example"
   ]
  },
  {
   "cell_type": "code",
   "execution_count": 108,
   "id": "23448c6a-7713-4d8f-8cb6-f188ce970fff",
   "metadata": {},
   "outputs": [
    {
     "name": "stdout",
     "output_type": "stream",
     "text": [
      "<class 'int'>\n",
      "<class 'int'>\n",
      "<class 'int'>\n"
     ]
    }
   ],
   "source": [
    "x = 1\n",
    "y = 35656222554887711\n",
    "z = -3255522\n",
    "print(type(x))\n",
    "print(type(y))\n",
    "print(type(z))"
   ]
  },
  {
   "cell_type": "markdown",
   "id": "d71c1dd9-fc3e-49e4-9257-3766efb90a10",
   "metadata": {},
   "source": [
    "34th example"
   ]
  },
  {
   "cell_type": "code",
   "execution_count": 110,
   "id": "b60bc453-3d90-4d93-adf4-24bc5f9afa09",
   "metadata": {},
   "outputs": [
    {
     "name": "stdout",
     "output_type": "stream",
     "text": [
      "<class 'float'>\n",
      "<class 'float'>\n",
      "<class 'float'>\n"
     ]
    }
   ],
   "source": [
    "x = 1.10\n",
    "y = 1.0\n",
    "z = -35.59\n",
    "print(type(x))\n",
    "print(type(y))\n",
    "print(type(z))"
   ]
  },
  {
   "cell_type": "markdown",
   "id": "d844413a-5c4b-47cf-af36-1d300b08c78f",
   "metadata": {},
   "source": [
    "35th example"
   ]
  },
  {
   "cell_type": "code",
   "execution_count": 113,
   "id": "68825a59-a601-4628-acd7-aeb79b4e4080",
   "metadata": {},
   "outputs": [
    {
     "name": "stdout",
     "output_type": "stream",
     "text": [
      "<class 'float'>\n",
      "<class 'float'>\n",
      "<class 'float'>\n"
     ]
    }
   ],
   "source": [
    "x = 35e3\n",
    "y = 12E4\n",
    "z = -87.7e100\n",
    "print(type(x))\n",
    "print(type(y))\n",
    "print(type(z))"
   ]
  },
  {
   "cell_type": "markdown",
   "id": "cad30f75-1e66-4cae-b348-6bdd3805d613",
   "metadata": {},
   "source": [
    "36th example"
   ]
  },
  {
   "cell_type": "code",
   "execution_count": 116,
   "id": "06b73899-c1ef-4193-a715-53b0a98100d7",
   "metadata": {},
   "outputs": [
    {
     "name": "stdout",
     "output_type": "stream",
     "text": [
      "<class 'complex'>\n",
      "<class 'complex'>\n",
      "<class 'complex'>\n"
     ]
    }
   ],
   "source": [
    "x = 3+5j\n",
    "y = 5j\n",
    "z = -5j\n",
    "print(type(x))\n",
    "print(type(y))\n",
    "print(type(z))"
   ]
  },
  {
   "cell_type": "markdown",
   "id": "7f684841-175f-43f1-aeb0-da7438060e42",
   "metadata": {},
   "source": [
    "37th example"
   ]
  },
  {
   "cell_type": "code",
   "execution_count": 119,
   "id": "2493ae77-bc62-4096-8d63-f7d56f044a77",
   "metadata": {},
   "outputs": [
    {
     "name": "stdout",
     "output_type": "stream",
     "text": [
      "1.0\n",
      "2\n",
      "(1+0j)\n",
      "<class 'float'>\n",
      "<class 'int'>\n",
      "<class 'complex'>\n"
     ]
    }
   ],
   "source": [
    "x = 1    # int\n",
    "y = 2.8  # float\n",
    "z = 1j   # complex\n",
    "\n",
    "#convert from int to float:\n",
    "a = float(x)\n",
    "\n",
    "#convert from float to int:\n",
    "b = int(y)\n",
    "\n",
    "#convert from int to complex:\n",
    "c = complex(x)\n",
    "\n",
    "print(a)\n",
    "print(b)\n",
    "print(c)\n",
    "print(type(a))\n",
    "print(type(b))\n",
    "print(type(c))"
   ]
  },
  {
   "cell_type": "markdown",
   "id": "705a4f89-ecfd-4300-a672-79c7c1857ad0",
   "metadata": {},
   "source": [
    "38th example"
   ]
  },
  {
   "cell_type": "code",
   "execution_count": 124,
   "id": "aab90e1c-e8fe-4cf0-adec-12802c019a98",
   "metadata": {},
   "outputs": [
    {
     "name": "stdout",
     "output_type": "stream",
     "text": [
      "5\n"
     ]
    }
   ],
   "source": [
    "import random\n",
    "\n",
    "print(random.randrange(1, 10))"
   ]
  },
  {
   "cell_type": "markdown",
   "id": "2eff9682-93b3-4692-8efd-c91fb220b6e1",
   "metadata": {},
   "source": [
    "39th example"
   ]
  },
  {
   "cell_type": "code",
   "execution_count": 128,
   "id": "b87b1073-5fef-40a2-b1d2-2dc241ca5056",
   "metadata": {},
   "outputs": [],
   "source": [
    "x = int(1)   # x will be 1\n",
    "y = int(2.8) # y will be 2\n",
    "z = int(\"3\") # z will be 3"
   ]
  },
  {
   "cell_type": "markdown",
   "id": "b5bd2c7d-de4a-4fce-a886-966865e6201a",
   "metadata": {},
   "source": [
    "40th example"
   ]
  },
  {
   "cell_type": "code",
   "execution_count": 131,
   "id": "a2535c53-e38c-4417-b467-5fa923bda53c",
   "metadata": {},
   "outputs": [],
   "source": [
    "x = float(1)     # x will be 1.0\n",
    "y = float(2.8)   # y will be 2.8\n",
    "z = float(\"3\")   # z will be 3.0\n",
    "w = float(\"4.2\") # w will be 4.2"
   ]
  },
  {
   "cell_type": "markdown",
   "id": "93b0d05d-6110-4f9d-bd22-126d5f707140",
   "metadata": {},
   "source": [
    "41st example"
   ]
  },
  {
   "cell_type": "code",
   "execution_count": 134,
   "id": "cd1c12af-e8ba-4c80-8065-4a3448ed67cf",
   "metadata": {},
   "outputs": [],
   "source": [
    "x = str(\"s1\") # x will be 's1'\n",
    "y = str(2)    # y will be '2'\n",
    "z = str(3.0)  # z will be '3.0'"
   ]
  },
  {
   "cell_type": "markdown",
   "id": "824e3476-ac61-479c-9985-4675b4b33101",
   "metadata": {},
   "source": [
    "42nd example"
   ]
  },
  {
   "cell_type": "code",
   "execution_count": 137,
   "id": "0dd1667c-24f5-442c-bb58-2d7ad9ad5fc5",
   "metadata": {},
   "outputs": [
    {
     "name": "stdout",
     "output_type": "stream",
     "text": [
      "Hello\n",
      "Hello\n"
     ]
    }
   ],
   "source": [
    "print(\"Hello\")\n",
    "print('Hello')\n",
    "#'hello' is the same as \"hello\""
   ]
  },
  {
   "cell_type": "markdown",
   "id": "a5608ea7-d8fa-43b9-94ec-30bb680ee729",
   "metadata": {},
   "source": [
    "43rd example"
   ]
  },
  {
   "cell_type": "code",
   "execution_count": 141,
   "id": "b03cd922-a290-404f-ba40-538952536cbc",
   "metadata": {},
   "outputs": [
    {
     "name": "stdout",
     "output_type": "stream",
     "text": [
      "It's alright\n",
      "He is called 'Johnny'\n",
      "He is called \"Johnny\"\n"
     ]
    }
   ],
   "source": [
    "print(\"It's alright\")\n",
    "print(\"He is called 'Johnny'\")\n",
    "print('He is called \"Johnny\"')\n",
    "#You can use quotes inside a string"
   ]
  },
  {
   "cell_type": "markdown",
   "id": "b9d5d601-64b9-48e4-8238-f9bd2a886e51",
   "metadata": {},
   "source": [
    "44th example"
   ]
  },
  {
   "cell_type": "code",
   "execution_count": 144,
   "id": "9ef62ffd-bbab-40ab-8957-cf3d5d7cef05",
   "metadata": {},
   "outputs": [
    {
     "name": "stdout",
     "output_type": "stream",
     "text": [
      "Hello\n"
     ]
    }
   ],
   "source": [
    "a = \"Hello\"\n",
    "print(a)"
   ]
  },
  {
   "cell_type": "markdown",
   "id": "11e416f7-b565-456e-ac46-7d48b75fae16",
   "metadata": {},
   "source": [
    "45th example"
   ]
  },
  {
   "cell_type": "code",
   "execution_count": 150,
   "id": "fa9f1827-1bc3-47db-b7bf-b210e42de56b",
   "metadata": {},
   "outputs": [
    {
     "name": "stdout",
     "output_type": "stream",
     "text": [
      "Lorem ipsum dolor sit amet,\n",
      "consectetur adipiscing elit,\n",
      "sed do eiusmod tempor incididunt\n",
      "ut labore et dolore magna aliqua.\n"
     ]
    }
   ],
   "source": [
    "a = \"\"\"Lorem ipsum dolor sit amet,\n",
    "consectetur adipiscing elit,\n",
    "sed do eiusmod tempor incididunt\n",
    "ut labore et dolore magna aliqua.\"\"\"\n",
    "print(a)\n",
    "#You can use three double quotes"
   ]
  },
  {
   "cell_type": "markdown",
   "id": "b49560e6-f8a9-4549-ad7c-efd6619d00de",
   "metadata": {},
   "source": [
    "46th example"
   ]
  },
  {
   "cell_type": "code",
   "execution_count": 155,
   "id": "f712a699-e623-4954-bb58-30532781f025",
   "metadata": {},
   "outputs": [
    {
     "name": "stdout",
     "output_type": "stream",
     "text": [
      "Lorem ipsum dolor sit amet,\n",
      "consectetur adipiscing elit,\n",
      "sed do eiusmod tempor incididunt\n",
      "ut labore et dolore magna aliqua.\n"
     ]
    }
   ],
   "source": [
    "a = '''Lorem ipsum dolor sit amet,\n",
    "consectetur adipiscing elit,\n",
    "sed do eiusmod tempor incididunt\n",
    "ut labore et dolore magna aliqua.'''\n",
    "#Or three single quotes\n",
    "print(a)"
   ]
  },
  {
   "cell_type": "markdown",
   "id": "6bfc82f0-89f8-427d-9b79-fc0c2ae564a6",
   "metadata": {},
   "source": [
    "47th example"
   ]
  },
  {
   "cell_type": "code",
   "execution_count": 158,
   "id": "e34fc1c8-a773-4f18-a3c0-1e269819a3ef",
   "metadata": {},
   "outputs": [
    {
     "name": "stdout",
     "output_type": "stream",
     "text": [
      "llo\n"
     ]
    }
   ],
   "source": [
    "b = \"Hello, World!\"\n",
    "print(b[2:5])"
   ]
  },
  {
   "cell_type": "markdown",
   "id": "2dea3d08-4690-4123-8257-1675cf52f9e3",
   "metadata": {},
   "source": [
    "48th example"
   ]
  },
  {
   "cell_type": "code",
   "execution_count": 161,
   "id": "d2e79d87-6af3-468f-9f19-91a6457d17df",
   "metadata": {},
   "outputs": [
    {
     "name": "stdout",
     "output_type": "stream",
     "text": [
      "Hello\n"
     ]
    }
   ],
   "source": [
    "b = \"Hello, World!\"\n",
    "print(b[:5])"
   ]
  },
  {
   "cell_type": "markdown",
   "id": "b7d5370a-18a1-4678-9002-7bdc1a303612",
   "metadata": {},
   "source": [
    "49th example"
   ]
  },
  {
   "cell_type": "code",
   "execution_count": 164,
   "id": "42810e8d-dc64-46cf-b7e9-c9950d609e3e",
   "metadata": {},
   "outputs": [
    {
     "name": "stdout",
     "output_type": "stream",
     "text": [
      "llo, World!\n"
     ]
    }
   ],
   "source": [
    "b = \"Hello, World!\"\n",
    "print(b[2:])"
   ]
  },
  {
   "cell_type": "markdown",
   "id": "c0768b24-6821-4ffa-a03d-68eeacb37cfc",
   "metadata": {},
   "source": [
    "50th example"
   ]
  },
  {
   "cell_type": "code",
   "execution_count": 167,
   "id": "95a6aea7-aa37-4a84-831e-0072ac228ee8",
   "metadata": {},
   "outputs": [
    {
     "name": "stdout",
     "output_type": "stream",
     "text": [
      "orl\n"
     ]
    }
   ],
   "source": [
    "b = \"Hello, World!\"\n",
    "print(b[-5:-2])"
   ]
  },
  {
   "cell_type": "markdown",
   "id": "de257469-d0a6-4864-8d0a-bd5ee54e6eea",
   "metadata": {},
   "source": [
    "51st example"
   ]
  },
  {
   "cell_type": "code",
   "execution_count": 170,
   "id": "57d05aca-d2c7-4c88-86f4-796e4e326d24",
   "metadata": {},
   "outputs": [
    {
     "name": "stdout",
     "output_type": "stream",
     "text": [
      "HELLO, WORLD!\n"
     ]
    }
   ],
   "source": [
    "a = \"Hello, World!\"\n",
    "print(a.upper())"
   ]
  },
  {
   "cell_type": "markdown",
   "id": "73de96a6-cbd6-4fcc-9bbe-7565dd957943",
   "metadata": {},
   "source": [
    "52nd example"
   ]
  },
  {
   "cell_type": "code",
   "execution_count": 173,
   "id": "8c462702-5336-4da6-b67e-c9f802206fde",
   "metadata": {},
   "outputs": [
    {
     "name": "stdout",
     "output_type": "stream",
     "text": [
      "hello, world!\n"
     ]
    }
   ],
   "source": [
    "a = \"Hello, World!\"\n",
    "print(a.lower())"
   ]
  },
  {
   "cell_type": "markdown",
   "id": "b6a2352e-c381-4d52-bdbc-fe133e66ae82",
   "metadata": {},
   "source": [
    "53rd example"
   ]
  },
  {
   "cell_type": "code",
   "execution_count": 175,
   "id": "82927aba-aa8a-4d5c-bd06-5891ea866cef",
   "metadata": {},
   "outputs": [
    {
     "name": "stdout",
     "output_type": "stream",
     "text": [
      "Hello, World!\n"
     ]
    }
   ],
   "source": [
    "a = \" Hello, World! \"\n",
    "print(a.strip()) # returns \"Hello, World!\""
   ]
  },
  {
   "cell_type": "markdown",
   "id": "0b390f58-a84a-4534-a38c-bcff654dd4ec",
   "metadata": {},
   "source": [
    "54th example"
   ]
  },
  {
   "cell_type": "code",
   "execution_count": 179,
   "id": "ac6b1600-2395-42be-9669-25750d6a11d5",
   "metadata": {},
   "outputs": [
    {
     "name": "stdout",
     "output_type": "stream",
     "text": [
      "Jello, World!\n"
     ]
    }
   ],
   "source": [
    "a = \"Hello, World!\"\n",
    "print(a.replace(\"H\", \"J\"))"
   ]
  },
  {
   "cell_type": "markdown",
   "id": "2b18287a-452f-48dc-becc-c6d47a4fe87a",
   "metadata": {},
   "source": [
    "55th example"
   ]
  },
  {
   "cell_type": "code",
   "execution_count": 186,
   "id": "8c0e7003-3365-4961-8179-924c939b8cde",
   "metadata": {},
   "outputs": [
    {
     "name": "stdout",
     "output_type": "stream",
     "text": [
      "['Hello', ' World!']\n"
     ]
    }
   ],
   "source": [
    "a = \"Hello, World!\"\n",
    "print(a.split(\",\")) # returns ['Hello', ' World!']"
   ]
  },
  {
   "cell_type": "markdown",
   "id": "64843022-d556-4493-8696-c9487c29002f",
   "metadata": {},
   "source": [
    "56th example"
   ]
  },
  {
   "cell_type": "code",
   "execution_count": 189,
   "id": "d2658c78-3891-4de7-b732-739cb9aba6c5",
   "metadata": {},
   "outputs": [
    {
     "name": "stdout",
     "output_type": "stream",
     "text": [
      "HelloWorld\n"
     ]
    }
   ],
   "source": [
    "a = \"Hello\"\n",
    "b = \"World\"\n",
    "c = a + b\n",
    "print(c)"
   ]
  },
  {
   "cell_type": "markdown",
   "id": "07d76aa5-e490-40c6-9872-4e1c0a90065d",
   "metadata": {},
   "source": [
    "57th example"
   ]
  },
  {
   "cell_type": "code",
   "execution_count": 194,
   "id": "4e222c40-6cf9-4cf1-a222-37d79791ccd6",
   "metadata": {},
   "outputs": [
    {
     "name": "stdout",
     "output_type": "stream",
     "text": [
      "Hello World\n"
     ]
    }
   ],
   "source": [
    "a = \"Hello\"\n",
    "b = \"World\"\n",
    "c = a + \" \" + b\n",
    "print(c)"
   ]
  },
  {
   "cell_type": "markdown",
   "id": "ea253371-2031-4106-b4c9-829357c45155",
   "metadata": {},
   "source": [
    "58th example"
   ]
  },
  {
   "cell_type": "code",
   "execution_count": 197,
   "id": "ec3bcd31-b2e3-490a-bf71-8c9fb28682d4",
   "metadata": {},
   "outputs": [
    {
     "name": "stdout",
     "output_type": "stream",
     "text": [
      "My name is John, I am 36\n"
     ]
    }
   ],
   "source": [
    "age = 36\n",
    "txt = f\"My name is John, I am {age}\"\n",
    "print(txt)"
   ]
  },
  {
   "cell_type": "markdown",
   "id": "47846c85-9269-494e-8e7e-3520e3f384d9",
   "metadata": {},
   "source": [
    "59th example"
   ]
  },
  {
   "cell_type": "code",
   "execution_count": 200,
   "id": "c483440e-cff9-4afe-a099-4247932033d2",
   "metadata": {},
   "outputs": [
    {
     "name": "stdout",
     "output_type": "stream",
     "text": [
      "The price is 59 dollars\n"
     ]
    }
   ],
   "source": [
    "price = 59\n",
    "txt = f\"The price is {price} dollars\"\n",
    "print(txt)"
   ]
  },
  {
   "cell_type": "markdown",
   "id": "dd354276-487f-4f86-b0d7-9d09b997012e",
   "metadata": {},
   "source": [
    "60th example"
   ]
  },
  {
   "cell_type": "code",
   "execution_count": 203,
   "id": "dd7c32ff-b2be-4c36-bbbb-0b4b7132c74c",
   "metadata": {},
   "outputs": [
    {
     "name": "stdout",
     "output_type": "stream",
     "text": [
      "The price is 59.00 dollars\n"
     ]
    }
   ],
   "source": [
    "price = 59\n",
    "txt = f\"The price is {price:.2f} dollars\"\n",
    "print(txt)"
   ]
  },
  {
   "cell_type": "markdown",
   "id": "47bddc84-2fa5-4c82-a6e2-dd4169983454",
   "metadata": {},
   "source": [
    "61st example"
   ]
  },
  {
   "cell_type": "code",
   "execution_count": 205,
   "id": "2d503b86-a33f-4a15-b3a0-c602d4228e8c",
   "metadata": {},
   "outputs": [
    {
     "name": "stdout",
     "output_type": "stream",
     "text": [
      "The price is 1180 dollars\n"
     ]
    }
   ],
   "source": [
    "txt = f\"The price is {20 * 59} dollars\"\n",
    "print(txt)"
   ]
  },
  {
   "cell_type": "markdown",
   "id": "5f5e1563-3a52-46d5-8691-79736bd69618",
   "metadata": {},
   "source": [
    "62nd example"
   ]
  },
  {
   "cell_type": "code",
   "execution_count": 209,
   "id": "912ecb8c-90d7-4cd6-b11a-7ff9e440dcd3",
   "metadata": {},
   "outputs": [],
   "source": [
    "txt = \"We are the so-called \\\"Vikings\\\" from the north.\""
   ]
  }
 ],
 "metadata": {
  "kernelspec": {
   "display_name": "Python [conda env:base] *",
   "language": "python",
   "name": "conda-base-py"
  },
  "language_info": {
   "codemirror_mode": {
    "name": "ipython",
    "version": 3
   },
   "file_extension": ".py",
   "mimetype": "text/x-python",
   "name": "python",
   "nbconvert_exporter": "python",
   "pygments_lexer": "ipython3",
   "version": "3.12.7"
  }
 },
 "nbformat": 4,
 "nbformat_minor": 5
}
